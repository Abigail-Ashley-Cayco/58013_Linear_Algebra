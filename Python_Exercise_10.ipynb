{
  "nbformat": 4,
  "nbformat_minor": 0,
  "metadata": {
    "colab": {
      "provenance": [],
      "authorship_tag": "ABX9TyNzcrA0DLPiM2igV8eyeGuc",
      "include_colab_link": true
    },
    "kernelspec": {
      "name": "python3",
      "display_name": "Python 3"
    },
    "language_info": {
      "name": "python"
    }
  },
  "cells": [
    {
      "cell_type": "markdown",
      "metadata": {
        "id": "view-in-github",
        "colab_type": "text"
      },
      "source": [
        "<a href=\"https://colab.research.google.com/github/Abigail-Ashley-Cayco/58013_Linear_Algebra/blob/main/Python_Exercise_10.ipynb\" target=\"_parent\"><img src=\"https://colab.research.google.com/assets/colab-badge.svg\" alt=\"Open In Colab\"/></a>"
      ]
    },
    {
      "cell_type": "code",
      "source": [
        "import numpy as np\n",
        "Supplies = np.array([[30, 10, 120], [40, 20, 200], [50, 40, 360]])\n",
        "Charged = np.array([12500, 18000, 25700])\n",
        "A = np.column_stack((Supplies, np.ones(Supplies.shape[0])))\n",
        "x = np.linalg.lstsq(A, Charged, rcond=None)\n",
        "print(\"The Price of flour per sack is: %.2f pesos\" % flour_price)\n",
        "print(\"The Price of yeast per pack is: %.2f pesos\" % yeast_price)\n",
        "print(\"The Price of egg per piece is: %.2f pesos\" % egg_price)"
      ],
      "metadata": {
        "colab": {
          "base_uri": "https://localhost:8080/"
        },
        "id": "gCnty17dZoP7",
        "outputId": "96c99ab1-c229-4b81-ace5-dc294b87edae"
      },
      "execution_count": 33,
      "outputs": [
        {
          "output_type": "stream",
          "name": "stdout",
          "text": [
            "The Price of flour per sack is: 330.00 pesos\n",
            "The Price of yeast per pack is: 134.67 pesos\n",
            "The Price of egg per piece is: 10.67 pesos\n"
          ]
        }
      ]
    }
  ]
}