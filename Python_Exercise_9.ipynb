{
  "nbformat": 4,
  "nbformat_minor": 0,
  "metadata": {
    "colab": {
      "provenance": [],
      "authorship_tag": "ABX9TyNHWrpICmeJ4jCzczi3BjR2",
      "include_colab_link": true
    },
    "kernelspec": {
      "name": "python3",
      "display_name": "Python 3"
    },
    "language_info": {
      "name": "python"
    }
  },
  "cells": [
    {
      "cell_type": "markdown",
      "metadata": {
        "id": "view-in-github",
        "colab_type": "text"
      },
      "source": [
        "<a href=\"https://colab.research.google.com/github/Abigail-Ashley-Cayco/58013_Linear_Algebra/blob/main/Python_Exercise_9.ipynb\" target=\"_parent\"><img src=\"https://colab.research.google.com/assets/colab-badge.svg\" alt=\"Open In Colab\"/></a>"
      ]
    },
    {
      "cell_type": "markdown",
      "source": [
        "Prove and implement the remaining 6 matrix multiplication properties. You may create your own matrices in which their shapes should not be lower than (3,3). In your methodology, create individual flowcharts for each property and discuss the property you would then present your proofs or validity of your implementation in the results section by comparing your result to present functions from NumPy."
      ],
      "metadata": {
        "id": "U8otMfSF4qDo"
      }
    },
    {
      "cell_type": "code",
      "source": [
        "import numpy as np\n",
        "import matplotlib.pyplot as plt\n",
        "%matplotlib inline\n",
        "A = np.array([\n",
        "    [1,4],\n",
        "    [0,3]\n",
        "])\n",
        "np.linalg.det(A)\n",
        "B = np.array([\n",
        "    [1,3,5,6],\n",
        "    [0,3,1,3],\n",
        "    [3,1,8,2],\n",
        "    [5,2,6,8]\n",
        "])\n",
        "np.linalg.det(B)"
      ],
      "metadata": {
        "colab": {
          "base_uri": "https://localhost:8080/"
        },
        "id": "2s8ypQ_p4ckC",
        "outputId": "9324b703-5566-41dd-dd12-8118501964f0"
      },
      "execution_count": null,
      "outputs": [
        {
          "output_type": "execute_result",
          "data": {
            "text/plain": [
              "-235.0000000000002"
            ]
          },
          "metadata": {},
          "execution_count": 9
        }
      ]
    },
    {
      "cell_type": "markdown",
      "source": [
        "Associative:"
      ],
      "metadata": {
        "id": "sI7YPHTfBVpE"
      }
    },
    {
      "cell_type": "code",
      "source": [
        "import numpy as np\n",
        "\n",
        "A = np.array([[1, 2, 3],\n",
        "              [4, 5, 6],\n",
        "              [7, 8, 9]])\n",
        "\n",
        "B = np.array([[9, 8, 7],\n",
        "              [6, 5, 4],\n",
        "              [3, 2, 1]])\n",
        "C = np.array([[2, 3, 4],\n",
        "              [5, 6, 7],\n",
        "              [8, 9, 10]])\n",
        "Associative1 = np.dot(np.dot(A, B), C)\n",
        "Associative2 = np.dot(A, np.dot(B, C))\n",
        "print(\"Associative 1:\")\n",
        "print(Associative1)\n",
        "print(\"Associative 2:\")\n",
        "print(Associative2)\n",
        "print(\"This proves that (A*B)*C is equal to A*(B*C)\")"
      ],
      "metadata": {
        "colab": {
          "base_uri": "https://localhost:8080/"
        },
        "id": "oMJbfxcs-IhA",
        "outputId": "1003f56b-09cf-4be3-b00a-8dffae960bb0"
      },
      "execution_count": null,
      "outputs": [
        {
          "output_type": "stream",
          "name": "stdout",
          "text": [
            "Associative 1:\n",
            "[[ 324  396  468]\n",
            " [ 945 1152 1359]\n",
            " [1566 1908 2250]]\n",
            "Associative 2:\n",
            "[[ 324  396  468]\n",
            " [ 945 1152 1359]\n",
            " [1566 1908 2250]]\n",
            "This proves that (A*B)*C is equal to A*(B*C)\n"
          ]
        }
      ]
    },
    {
      "cell_type": "markdown",
      "source": [
        "Distributive"
      ],
      "metadata": {
        "id": "b-GlJJjwBwZ_"
      }
    },
    {
      "cell_type": "code",
      "source": [
        "import numpy as np\n",
        "\n",
        "A = np.array([[1, 2, 3],\n",
        "              [4, 5, 6],\n",
        "              [7, 8, 9]])\n",
        "\n",
        "B = np.array([[9, 8, 7],\n",
        "              [6, 5, 4],\n",
        "              [3, 2, 1]])\n",
        "C = np.array([[2, 3, 4],\n",
        "              [5, 6, 7],\n",
        "              [8, 9, 10]])\n",
        "Distributive1 = np.dot(A, B + C)\n",
        "Distributive2 = np.dot(A, B) + np.dot(A, C)\n",
        "\n",
        "print(\"Distributive 1:\")\n",
        "print(Distributive1)\n",
        "print(\"Distributive 2:\")\n",
        "print(Distributive2)\n",
        "print(\"This proves that A*(B+C) is equal to A*B+A*C\")"
      ],
      "metadata": {
        "colab": {
          "base_uri": "https://localhost:8080/"
        },
        "id": "Ew7rQBkUBYqz",
        "outputId": "6663e0be-8655-4639-f9a0-a77900b8fa9e"
      },
      "execution_count": null,
      "outputs": [
        {
          "output_type": "stream",
          "name": "stdout",
          "text": [
            "Distributive 1:\n",
            "[[ 66  66  66]\n",
            " [165 165 165]\n",
            " [264 264 264]]\n",
            "Distributive 2:\n",
            "[[ 66  66  66]\n",
            " [165 165 165]\n",
            " [264 264 264]]\n",
            "This proves that A*(B+C) is equal to A*B+A*C\n"
          ]
        }
      ]
    },
    {
      "cell_type": "markdown",
      "source": [
        "Scalar"
      ],
      "metadata": {
        "id": "Hz3ok3PdCGNE"
      }
    },
    {
      "cell_type": "code",
      "source": [
        "import numpy as np\n",
        "\n",
        "A = np.array([[1, 2, 3],\n",
        "              [4, 5, 6],\n",
        "              [7, 8, 9]])\n",
        "\n",
        "B = np.array([[9, 8, 7],\n",
        "              [6, 5, 4],\n",
        "              [3, 2, 1]])\n",
        "C = 2\n",
        "Scalar1 = C * np.dot(A, B)\n",
        "Scalar2 = np.dot(C * A, B)\n",
        "\n",
        "print(\"Scalar 1:\")\n",
        "print(Scalar1)\n",
        "print(\"Scalar 2:\")\n",
        "print(Scalar2)\n",
        "print(\"This proves that C*(A*B) is equal to (C*A)*B\")"
      ],
      "metadata": {
        "colab": {
          "base_uri": "https://localhost:8080/"
        },
        "id": "YWS6nCX3CAGF",
        "outputId": "4472da72-c8ee-4789-d9a8-0d9bcdfeb245"
      },
      "execution_count": null,
      "outputs": [
        {
          "output_type": "stream",
          "name": "stdout",
          "text": [
            "Scalar 1:\n",
            "[[ 60  48  36]\n",
            " [168 138 108]\n",
            " [276 228 180]]\n",
            "Scalar 2:\n",
            "[[ 60  48  36]\n",
            " [168 138 108]\n",
            " [276 228 180]]\n",
            "This proves that C*(A*B) is equal to (C*A)*B\n"
          ]
        }
      ]
    },
    {
      "cell_type": "markdown",
      "source": [
        "Commutative"
      ],
      "metadata": {
        "id": "rwN4K7h6CfMs"
      }
    },
    {
      "cell_type": "code",
      "source": [
        "import numpy as np\n",
        "\n",
        "A = np.array([[1, 2, 3],\n",
        "              [4, 5, 6],\n",
        "              [7, 8, 9]])\n",
        "\n",
        "B = np.array([[9, 8, 7],\n",
        "              [6, 5, 4],\n",
        "              [3, 2, 1]])\n",
        "Commutative1 = np.dot(A, B)\n",
        "Commutative2 = np.dot(B, A)\n",
        "\n",
        "print(\"Commutative 1:\")\n",
        "print(Commutative1)\n",
        "print(\"Commutative 2:\")\n",
        "print(Commutative2)\n",
        "print(\"This proves that A*B is not necessarily equal to B*A\")"
      ],
      "metadata": {
        "colab": {
          "base_uri": "https://localhost:8080/"
        },
        "id": "ltjcqicuCZGu",
        "outputId": "521cd712-a786-4d2a-f6cb-06a439aa93dd"
      },
      "execution_count": null,
      "outputs": [
        {
          "output_type": "stream",
          "name": "stdout",
          "text": [
            "Commutative 1:\n",
            "[[ 30  24  18]\n",
            " [ 84  69  54]\n",
            " [138 114  90]]\n",
            "Commutative 2:\n",
            "[[ 90 114 138]\n",
            " [ 54  69  84]\n",
            " [ 18  24  30]]\n",
            "This proves that A*B is not necessarily equal to B*A\n"
          ]
        }
      ]
    },
    {
      "cell_type": "markdown",
      "source": [
        " Identity Matrix"
      ],
      "metadata": {
        "id": "dvfgUMfXC1Zv"
      }
    },
    {
      "cell_type": "code",
      "source": [
        "import numpy as np\n",
        "\n",
        "A = np.array([[1, 2, 3],\n",
        "              [4, 5, 6],\n",
        "              [7, 8, 9]])\n",
        "I = np.identity(3)\n",
        "IdentityMatrix = np.dot(I, A)\n",
        "\n",
        "print(\"Identity Matrix:\")\n",
        "print(IdentityMatrix)\n",
        "print(\"This states that I*A is equal to A where I is the Identity Matrix\")"
      ],
      "metadata": {
        "colab": {
          "base_uri": "https://localhost:8080/"
        },
        "id": "2nwtguUcCnlh",
        "outputId": "37eda9d8-fe27-4223-e392-cedd670ef1cd"
      },
      "execution_count": null,
      "outputs": [
        {
          "output_type": "stream",
          "name": "stdout",
          "text": [
            "Identity Matrix:\n",
            "[[1. 2. 3.]\n",
            " [4. 5. 6.]\n",
            " [7. 8. 9.]]\n",
            "This states that I*A is equal to A where I is the Identity Matrix\n"
          ]
        }
      ]
    },
    {
      "cell_type": "markdown",
      "source": [
        "Zero Matrix"
      ],
      "metadata": {
        "id": "3Kmu4VycDg2k"
      }
    },
    {
      "cell_type": "code",
      "source": [
        "import numpy as np\n",
        "\n",
        "A = np.array([[1, 2, 3],\n",
        "              [4, 5, 6],\n",
        "              [7, 8, 9]])\n",
        "ZeroMatrix = np.zeros((3, 3))\n",
        "ZeroMatrix1 = np.dot(zero_matrix, A)\n",
        "\n",
        "print(\"ZeroMatrix1:\")\n",
        "print(ZeroMatrix1)\n",
        "print(\"This states that 0*A is equal to the zero matrix, where 0 is a matrix of all zeros\")"
      ],
      "metadata": {
        "colab": {
          "base_uri": "https://localhost:8080/"
        },
        "id": "CZDqX3jQC_VF",
        "outputId": "880042f9-813b-4caf-e34d-1b28b2171787"
      },
      "execution_count": null,
      "outputs": [
        {
          "output_type": "stream",
          "name": "stdout",
          "text": [
            "ZeroMatrix1:\n",
            "[[0. 0. 0.]\n",
            " [0. 0. 0.]\n",
            " [0. 0. 0.]]\n",
            "This states that 0*A is equal to the zero matrix, where 0 is a matrix of all zeros\n"
          ]
        }
      ]
    }
  ]
}