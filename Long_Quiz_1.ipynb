{
  "nbformat": 4,
  "nbformat_minor": 0,
  "metadata": {
    "colab": {
      "provenance": [],
      "authorship_tag": "ABX9TyOh1KTkATiXP5GV3KQJ+T9d",
      "include_colab_link": true
    },
    "kernelspec": {
      "name": "python3",
      "display_name": "Python 3"
    },
    "language_info": {
      "name": "python"
    }
  },
  "cells": [
    {
      "cell_type": "markdown",
      "metadata": {
        "id": "view-in-github",
        "colab_type": "text"
      },
      "source": [
        "<a href=\"https://colab.research.google.com/github/Abigail-Ashley-Cayco/58013_Linear_Algebra/blob/main/Long_Quiz_1.ipynb\" target=\"_parent\"><img src=\"https://colab.research.google.com/assets/colab-badge.svg\" alt=\"Open In Colab\"/></a>"
      ]
    },
    {
      "cell_type": "markdown",
      "source": [
        "Problem # 1"
      ],
      "metadata": {
        "id": "fhqo_3cGX5Sd"
      }
    },
    {
      "cell_type": "code",
      "execution_count": 9,
      "metadata": {
        "colab": {
          "base_uri": "https://localhost:8080/"
        },
        "id": "6VBAhLyNW0PQ",
        "outputId": "1bf04967-ee97-4b0a-950f-72a69e4c6685"
      },
      "outputs": [
        {
          "output_type": "stream",
          "name": "stdout",
          "text": [
            "a.) AB\n",
            " [[22 28]\n",
            " [49 64]]\n",
            "\n",
            " b.) D + D\n",
            " [[2 4]\n",
            " [6 8]]\n",
            "\n",
            " c.) 2C \n",
            " [[ 2  4  6]\n",
            " [ 8 10 12]\n",
            " [14 16 18]]\n"
          ]
        }
      ],
      "source": [
        "import numpy as np\n",
        "A = np.array([[1, 2, 3],\n",
        "              [4, 5, 6]])\n",
        "B = np.array([[1, 2],\n",
        "              [3, 4],\n",
        "              [5, 6]])\n",
        "C = np.array([[1, 2, 3],\n",
        "              [4, 5, 6],\n",
        "              [7, 8, 9]])\n",
        "D = np.array([[1, 2],\n",
        "              [3, 4]])\n",
        "# a.) AB\n",
        "print(\"a.) AB\\n\", np.dot(A, B))\n",
        "\n",
        "# b.) D + D\n",
        "print(\"\\n b.) D + D\\n\", np.add(D,D))\n",
        "\n",
        "# c.) 2C\n",
        "print(\"\\n c.) 2C \\n\", np.multiply(2, C))"
      ]
    },
    {
      "cell_type": "markdown",
      "source": [
        "Problem #2. Find the cross-product of matrices, A = [2,7,4] and\n",
        "B = [3,9,8]. Show your solutions using Python program ."
      ],
      "metadata": {
        "id": "XAOHCD6QW7KV"
      }
    },
    {
      "cell_type": "code",
      "source": [
        "import numpy as np\n",
        "A = np.array([2,7,4])\n",
        "B = np.array([3,9,8])\n",
        "print(np.cross(A,B))"
      ],
      "metadata": {
        "colab": {
          "base_uri": "https://localhost:8080/"
        },
        "id": "ilrJWnavXC_u",
        "outputId": "1d7ac7ad-b24f-41b5-8777-c4b18f158d45"
      },
      "execution_count": 2,
      "outputs": [
        {
          "output_type": "stream",
          "name": "stdout",
          "text": [
            "[20 -4 -3]\n"
          ]
        }
      ]
    }
  ]
}