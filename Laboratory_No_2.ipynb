{
  "nbformat": 4,
  "nbformat_minor": 0,
  "metadata": {
    "colab": {
      "provenance": [],
      "authorship_tag": "ABX9TyOQej5Yb+bCiQ5jrWVXWb6p",
      "include_colab_link": true
    },
    "kernelspec": {
      "name": "python3",
      "display_name": "Python 3"
    },
    "language_info": {
      "name": "python"
    }
  },
  "cells": [
    {
      "cell_type": "markdown",
      "metadata": {
        "id": "view-in-github",
        "colab_type": "text"
      },
      "source": [
        "<a href=\"https://colab.research.google.com/github/Abigail-Ashley-Cayco/58013_Linear_Algebra/blob/main/Laboratory_No_2.ipynb\" target=\"_parent\"><img src=\"https://colab.research.google.com/assets/colab-badge.svg\" alt=\"Open In Colab\"/></a>"
      ]
    },
    {
      "cell_type": "code",
      "execution_count": 2,
      "metadata": {
        "colab": {
          "base_uri": "https://localhost:8080/"
        },
        "id": "mU4cncdxznKy",
        "outputId": "18eed585-bd2f-4566-aa67-3dbe30fe4df5"
      },
      "outputs": [
        {
          "output_type": "execute_result",
          "data": {
            "text/plain": [
              "array(-0.5)"
            ]
          },
          "metadata": {},
          "execution_count": 2
        }
      ],
      "source": [
        "import numpy as np\n",
        "\n",
        "x = np.array(-0.5)\n",
        "x"
      ]
    },
    {
      "cell_type": "code",
      "source": [
        "A = np.array([4,3])\n",
        "B = np.array([2, -5])\n",
        "\n",
        "print('Vector A is ', A)\n",
        "print('Vector B is ', B)"
      ],
      "metadata": {
        "colab": {
          "base_uri": "https://localhost:8080/"
        },
        "id": "u5DyM5ULzyE0",
        "outputId": "134b3285-0408-48d3-944a-440c80642c47"
      },
      "execution_count": 3,
      "outputs": [
        {
          "output_type": "stream",
          "name": "stdout",
          "text": [
            "Vector A is  [4 3]\n",
            "Vector B is  [ 2 -5]\n"
          ]
        }
      ]
    },
    {
      "cell_type": "code",
      "source": [
        "### Checking shapes\n",
        "### Shapes tells us how many rows and columns are there\n",
        "ball1 = np.array([1,2,3])\n",
        "ball2 = np.array([0,1,-1])\n",
        "pool = np.array([ball1,ball2]) ## Matrix\n",
        "pool.shape\n",
        "\n",
        "U = np.array([\n",
        "    [1,2],\n",
        "    [2,3]\n",
        "])\n",
        "U.shape\n",
        "\n",
        "## Checking size\n",
        "## Array/Vector sizes tells us many total number of elements are there in the vector\n",
        "\n",
        "U.size\n",
        "\n",
        "## Checking dimensions\n",
        "### The dimension or rank of a vector tells us how many dimension are there for the vectors.\n",
        "A.ndim\n",
        "pool.ndim"
      ],
      "metadata": {
        "colab": {
          "base_uri": "https://localhost:8080/"
        },
        "id": "jCcek9sLz5a1",
        "outputId": "7c555835-585b-4582-97c0-b572cd6a3cb3"
      },
      "execution_count": 5,
      "outputs": [
        {
          "output_type": "execute_result",
          "data": {
            "text/plain": [
              "2"
            ]
          },
          "metadata": {},
          "execution_count": 5
        }
      ]
    }
  ]
}