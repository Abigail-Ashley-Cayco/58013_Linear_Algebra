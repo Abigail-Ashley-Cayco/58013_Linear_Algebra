{
  "nbformat": 4,
  "nbformat_minor": 0,
  "metadata": {
    "colab": {
      "provenance": [],
      "authorship_tag": "ABX9TyNIpmSNS31M95KyQXmH92uB",
      "include_colab_link": true
    },
    "kernelspec": {
      "name": "python3",
      "display_name": "Python 3"
    },
    "language_info": {
      "name": "python"
    }
  },
  "cells": [
    {
      "cell_type": "markdown",
      "metadata": {
        "id": "view-in-github",
        "colab_type": "text"
      },
      "source": [
        "<a href=\"https://colab.research.google.com/github/Abigail-Ashley-Cayco/58013_Linear_Algebra/blob/main/Prelim_Exam.ipynb\" target=\"_parent\"><img src=\"https://colab.research.google.com/assets/colab-badge.svg\" alt=\"Open In Colab\"/></a>"
      ]
    },
    {
      "cell_type": "markdown",
      "source": [
        "Question 1. Create a Multiplication Table/Chart of 1 to 10 using numpy/ python program."
      ],
      "metadata": {
        "id": "oE51g8iI39Al"
      }
    },
    {
      "cell_type": "code",
      "source": [
        "import numpy as np\n",
        "\n",
        "def N(n):\n",
        "    rng = np.arange(1, n+1)\n",
        "    return rng * rng[:, None]\n",
        "\n",
        "print(N(10))"
      ],
      "metadata": {
        "colab": {
          "base_uri": "https://localhost:8080/"
        },
        "id": "L7lBOTwf4F0r",
        "outputId": "f13a7dc7-90ff-4356-8c9f-6538a4b3308a"
      },
      "execution_count": 6,
      "outputs": [
        {
          "output_type": "stream",
          "name": "stdout",
          "text": [
            "[[  1   2   3   4   5   6   7   8   9  10]\n",
            " [  2   4   6   8  10  12  14  16  18  20]\n",
            " [  3   6   9  12  15  18  21  24  27  30]\n",
            " [  4   8  12  16  20  24  28  32  36  40]\n",
            " [  5  10  15  20  25  30  35  40  45  50]\n",
            " [  6  12  18  24  30  36  42  48  54  60]\n",
            " [  7  14  21  28  35  42  49  56  63  70]\n",
            " [  8  16  24  32  40  48  56  64  72  80]\n",
            " [  9  18  27  36  45  54  63  72  81  90]\n",
            " [ 10  20  30  40  50  60  70  80  90 100]]\n"
          ]
        }
      ]
    },
    {
      "cell_type": "markdown",
      "source": [
        "Question 2. n relation to Question 1, show a solution that doubles all the values of each element."
      ],
      "metadata": {
        "id": "1FBLjWSJ3-u0"
      }
    },
    {
      "cell_type": "code",
      "source": [
        "def N(n):\n",
        "    rng = np.arange(1, n+1)\n",
        "    return rng * rng[:, None]\n",
        "\n",
        "print(N(10)*2)"
      ],
      "metadata": {
        "colab": {
          "base_uri": "https://localhost:8080/"
        },
        "id": "_Lwe9zmI4GMk",
        "outputId": "94add205-41e5-4559-df14-8b98e4c0c54b"
      },
      "execution_count": 10,
      "outputs": [
        {
          "output_type": "stream",
          "name": "stdout",
          "text": [
            "[[  2   4   6   8  10  12  14  16  18  20]\n",
            " [  4   8  12  16  20  24  28  32  36  40]\n",
            " [  6  12  18  24  30  36  42  48  54  60]\n",
            " [  8  16  24  32  40  48  56  64  72  80]\n",
            " [ 10  20  30  40  50  60  70  80  90 100]\n",
            " [ 12  24  36  48  60  72  84  96 108 120]\n",
            " [ 14  28  42  56  70  84  98 112 126 140]\n",
            " [ 16  32  48  64  80  96 112 128 144 160]\n",
            " [ 18  36  54  72  90 108 126 144 162 180]\n",
            " [ 20  40  60  80 100 120 140 160 180 200]]\n"
          ]
        }
      ]
    },
    {
      "cell_type": "markdown",
      "source": [
        "Question 3. Create a square matrix that has a diagonal 1's."
      ],
      "metadata": {
        "id": "mn7wjomL4BIU"
      }
    },
    {
      "cell_type": "code",
      "source": [
        "import numpy as np\n",
        "A = np.eye(3,3)\n",
        "print(A)"
      ],
      "metadata": {
        "colab": {
          "base_uri": "https://localhost:8080/"
        },
        "id": "iVFfD2MH_cj2",
        "outputId": "40b317e4-3b92-4b93-e85a-f090d3c98a09"
      },
      "execution_count": 1,
      "outputs": [
        {
          "output_type": "stream",
          "name": "stdout",
          "text": [
            "[[1. 0. 0.]\n",
            " [0. 1. 0.]\n",
            " [0. 0. 1.]]\n"
          ]
        }
      ]
    },
    {
      "cell_type": "markdown",
      "source": [
        "Question 4. Create a matrix whose elements are: Type a python program that can view the size, shape, and dimension of the matrix above."
      ],
      "metadata": {
        "id": "yX0Uyzs74BwL"
      }
    },
    {
      "cell_type": "code",
      "source": [
        "import numpy as np\n",
        "matrix=np.array([[1, 2, 3, 4],\n",
        "                 [5, 6, 7, 8],\n",
        "                 [9, 10, 11, 12]])\n",
        "print(matrix.shape)\n",
        "print(matrix.size)\n",
        "print(matrix.ndim)"
      ],
      "metadata": {
        "colab": {
          "base_uri": "https://localhost:8080/"
        },
        "id": "-YbLlWv84Deu",
        "outputId": "f1b9f7de-5abd-4514-d78a-c155aeb46990"
      },
      "execution_count": 2,
      "outputs": [
        {
          "output_type": "stream",
          "name": "stdout",
          "text": [
            "(3, 4)\n",
            "12\n",
            "2\n"
          ]
        }
      ]
    },
    {
      "cell_type": "markdown",
      "source": [
        "Question 5. Create a result array by adding the following two NumPy arrays. Next, modify the result array by calculating the square of each element."
      ],
      "metadata": {
        "id": "j1JMOnuR4Eor"
      }
    },
    {
      "cell_type": "code",
      "source": [
        "import numpy as np\n",
        "arrayOne = np.array([[5, 6, 9],[21, 18, 27]])\n",
        "arrayTwo = np.array([[15, 33, 24],[4, 7, 1]])\n",
        "c = (arrayOne**2)\n",
        "d = (arrayTwo**2)\n",
        "print(\"The addition of the two array is: \\n\", np.add(arrayOne, arrayTwo))\n",
        "print(\"The square of each element is: \\n\", c, \"\\n\", d)\n"
      ],
      "metadata": {
        "colab": {
          "base_uri": "https://localhost:8080/"
        },
        "id": "lH5DyqT34Fh1",
        "outputId": "44fb5050-c3e5-4701-e47b-53a63fef9e8b"
      },
      "execution_count": 2,
      "outputs": [
        {
          "output_type": "stream",
          "name": "stdout",
          "text": [
            "The addition of the two array is: \n",
            " [[20 39 33]\n",
            " [25 25 28]]\n",
            "The square of each element is: \n",
            " [[ 25  36  81]\n",
            " [441 324 729]] \n",
            " [[ 225 1089  576]\n",
            " [  16   49    1]]\n"
          ]
        }
      ]
    }
  ]
}