{
  "nbformat": 4,
  "nbformat_minor": 0,
  "metadata": {
    "colab": {
      "provenance": [],
      "authorship_tag": "ABX9TyN9yaxzkALGz66P6ibMa1PW",
      "include_colab_link": true
    },
    "kernelspec": {
      "name": "python3",
      "display_name": "Python 3"
    },
    "language_info": {
      "name": "python"
    }
  },
  "cells": [
    {
      "cell_type": "markdown",
      "metadata": {
        "id": "view-in-github",
        "colab_type": "text"
      },
      "source": [
        "<a href=\"https://colab.research.google.com/github/Abigail-Ashley-Cayco/58013_Linear_Algebra/blob/main/Python_Exercise_4.ipynb\" target=\"_parent\"><img src=\"https://colab.research.google.com/assets/colab-badge.svg\" alt=\"Open In Colab\"/></a>"
      ]
    },
    {
      "cell_type": "code",
      "execution_count": 26,
      "metadata": {
        "colab": {
          "base_uri": "https://localhost:8080/"
        },
        "id": "iyDhvo423KxR",
        "outputId": "4ad2d9df-b08b-4d6b-8c99-a4f443e6e9ad"
      },
      "outputs": [
        {
          "output_type": "stream",
          "name": "stdout",
          "text": [
            "Addition Operation Output: [-0.82  5.51 -2.1 ]\n",
            "Dot Product Operation Output: [-0.21626  0.983   -1.4745 ]\n",
            "Cross Product Operation Output: [-0.956    0.01828  0.1524 ]\n"
          ]
        }
      ],
      "source": [
        "import numpy as np\n",
        "A = np.array([-0.4,4.3,-0.6])\n",
        "B = np.array([-0.2,0.21,0])\n",
        "C = np.array([-0.22,1,-1.5])\n",
        "x = np.add(A,B) ## My expected value for A+B is [-0.6,4.51,-0.6]\n",
        "y = np.dot(A,B) ## My expected value for the dot product of (A,B) is 0.08 + 0.903 + 0, it would be equals to 0.983\n",
        "z = np.cross(A,B) ## My expected value for the cross product of (A,B) is [0.126, -0.12, 0.86]\n",
        "X = np.add(x,C) ## My expected value for the x+C is [-0.82, 5.51, -2.1]\n",
        "Y = np.dot(y,C) ## My expected value for the dot product of dot(A,B)*C would be [-0.21526, 0.983, -1.4745]\n",
        "Z = np.cross(z,C) ## My expected value for the cross product of cross(A,B) x C would be [-0.02772, -0.12, -1.29]\n",
        "print(\"Addition Operation Output:\",X)\n",
        "print(\"Dot Product Operation Output:\",Y)\n",
        "print(\"Cross Product Operation Output:\",Z)"
      ]
    }
  ]
}