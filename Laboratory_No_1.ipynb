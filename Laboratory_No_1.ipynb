{
  "nbformat": 4,
  "nbformat_minor": 0,
  "metadata": {
    "colab": {
      "provenance": [],
      "authorship_tag": "ABX9TyOn+2Um/z7aScUTB+c56Tdt",
      "include_colab_link": true
    },
    "kernelspec": {
      "name": "python3",
      "display_name": "Python 3"
    },
    "language_info": {
      "name": "python"
    }
  },
  "cells": [
    {
      "cell_type": "markdown",
      "metadata": {
        "id": "view-in-github",
        "colab_type": "text"
      },
      "source": [
        "<a href=\"https://colab.research.google.com/github/Abigail-Ashley-Cayco/58013_Linear_Algebra/blob/main/Laboratory_No_1.ipynb\" target=\"_parent\"><img src=\"https://colab.research.google.com/assets/colab-badge.svg\" alt=\"Open In Colab\"/></a>"
      ]
    },
    {
      "cell_type": "code",
      "execution_count": 1,
      "metadata": {
        "colab": {
          "base_uri": "https://localhost:8080/"
        },
        "id": "8RDCtuHvrFJ8",
        "outputId": "38c53b14-9313-4520-fec9-512eb20be6e7"
      },
      "outputs": [
        {
          "output_type": "execute_result",
          "data": {
            "text/plain": [
              "0"
            ]
          },
          "metadata": {},
          "execution_count": 1
        }
      ],
      "source": [
        "x = 1\n",
        "a,b = 0, -1\n",
        "type(x)\n",
        "\n",
        "y = 1.0\n",
        "type(y)\n",
        "\n",
        "x = float(x)\n",
        "type(x)\n",
        "\n",
        "s,t,u = \"0\", '1', 'one'\n",
        "type(s)\n",
        "\n",
        "s_int = int(s)\n",
        "s_int"
      ]
    },
    {
      "cell_type": "code",
      "source": [
        "a,b,c,d = 2.0, -0.5, 0, -32\n",
        "### Addition\n",
        "S = a+b\n",
        "print(S)\n",
        "\n",
        "### Subtraction\n",
        "D = b-d\n",
        "print(D)\n",
        "\n",
        "### Multiplication\n",
        "P = a*d\n",
        "print(P)\n",
        "\n",
        "### Division\n",
        "Q = c/a\n",
        "print(Q)\n",
        "\n",
        "### Exponentiation\n",
        "E = a**b\n",
        "print(E)\n",
        "\n",
        "### Modulo\n",
        "mod = d%a\n",
        "print(mod)\n"
      ],
      "metadata": {
        "colab": {
          "base_uri": "https://localhost:8080/"
        },
        "id": "kVQ2KCb2r5ce",
        "outputId": "f03ca313-f322-42f6-c51a-53cd65644935"
      },
      "execution_count": 6,
      "outputs": [
        {
          "output_type": "stream",
          "name": "stdout",
          "text": [
            "1.5\n",
            "31.5\n",
            "-64.0\n",
            "0.0\n",
            "0.7071067811865476\n",
            "0.0\n"
          ]
        }
      ]
    },
    {
      "cell_type": "code",
      "source": [
        "G, H, J, K = 0, 100, 2, 2\n",
        "\n",
        "G += a\n",
        "print(G)\n",
        "\n",
        "H -= d\n",
        "print(H)\n",
        "\n",
        "J *= 2\n",
        "print(J)\n",
        "\n",
        "K **= 2\n",
        "print(K)\n"
      ],
      "metadata": {
        "colab": {
          "base_uri": "https://localhost:8080/"
        },
        "id": "-vYQSIKvtNj3",
        "outputId": "9bc1074e-fcd3-4054-b205-582aa676ce32"
      },
      "execution_count": 8,
      "outputs": [
        {
          "output_type": "stream",
          "name": "stdout",
          "text": [
            "2.0\n",
            "132\n",
            "4\n",
            "4\n"
          ]
        }
      ]
    },
    {
      "cell_type": "code",
      "source": [
        "res_1, res_2, res_3 = 1, 2.0, \"1\"\n",
        "true_val = 1.0\n",
        "\n",
        "## Equality\n",
        "res_1 == true_val\n",
        "\n",
        "## Non-equality\n",
        "res_2 != true_val\n",
        "\n",
        "## Inequality\n",
        "t1 = res_1 > res_2\n",
        "t2 = res_1 < res_2/2\n",
        "t3 = res_1 >= res_2/2\n",
        "t4 = res_1 <= res_2\n",
        "t1\n"
      ],
      "metadata": {
        "colab": {
          "base_uri": "https://localhost:8080/"
        },
        "id": "yGsXa-0Ntc6m",
        "outputId": "d367c828-cf89-40ae-b30e-80f7a21a1e8b"
      },
      "execution_count": 9,
      "outputs": [
        {
          "output_type": "execute_result",
          "data": {
            "text/plain": [
              "False"
            ]
          },
          "metadata": {},
          "execution_count": 9
        }
      ]
    },
    {
      "cell_type": "code",
      "source": [
        "res_1 == true_val\n",
        "\n",
        "res_1 is true_val\n",
        "\n",
        "res_1 is not true_val\n",
        "\n",
        "p, q = True, False\n",
        "conj = p and q\n",
        "print(conj)\n",
        "\n",
        "p, q = True, False\n",
        "disj = p or q\n",
        "print(disj)\n",
        "\n",
        "\n",
        "p, q = True, False\n",
        "nand = not(p and q)\n",
        "print(nand)\n",
        "\n",
        "p, q = True, False\n",
        "xor = (not p and q) or (p and not q)\n",
        "print(xor)\n"
      ],
      "metadata": {
        "colab": {
          "base_uri": "https://localhost:8080/"
        },
        "id": "Xh8b7MoTuEto",
        "outputId": "9ce2c8a5-cff2-4d7d-9013-6ff7f595193d"
      },
      "execution_count": 11,
      "outputs": [
        {
          "output_type": "stream",
          "name": "stdout",
          "text": [
            "False\n",
            "True\n",
            "True\n",
            "True\n"
          ]
        }
      ]
    },
    {
      "cell_type": "code",
      "source": [
        "print(\"Hello World\")\n",
        "\n",
        "cnt = 1\n",
        "\n",
        "string = \"Hello World\"\n",
        "print(string, \", Current run count is:\", cnt)\n",
        "cnt += 1\n",
        "\n",
        "print(f\"{string}, Current count is: {cnt}\")\n",
        "\n",
        "sem_grade = 82.243564657461234\n",
        "name = \"\"\n",
        "print(\"Hello {}, your semestral grade is: {}\".format(name, sem_grade))\n",
        "\n",
        "w_pg, w_mg, w_fg = 0.3, 0.3, 0.4\n",
        "print(\"The weights of your semestral grades are:\\\n",
        "\\n\\t{:.2%} for Prelims\\\n",
        "\\n\\t{:.2%} for Midterms, and\\\n",
        "\\n\\t{:.2%} for Finals.\".format(w_pg, w_mg, w_fg))\n",
        "\n",
        "x = input(\"enter a number: \")\n",
        "x\n",
        "\n",
        "name = input(\"Input a name: \")\n",
        "pg = float(input(\"Enter prelim grade: \"))\n",
        "mg = float(input(\"Enter midterm grade: \"))\n",
        "fg = float(input(\"Enter finals grade: \"))\n",
        "sem_grade = (pg * 0.3 + mg * 0.3 + fg * 0.4)\n",
        "print(\"Hello {}, your semestral grade is: {:.2f}\".format(name, sem_grade))\n"
      ],
      "metadata": {
        "colab": {
          "base_uri": "https://localhost:8080/"
        },
        "id": "q8qZxnzjuZTM",
        "outputId": "79d24751-0415-4834-a86f-b775f4e21093"
      },
      "execution_count": 24,
      "outputs": [
        {
          "output_type": "stream",
          "name": "stdout",
          "text": [
            "Hello World\n",
            "Hello World , Current run count is: 1\n",
            "Hello World, Current count is: 2\n",
            "Hello , your semestral grade is: 82.24356465746123\n",
            "The weights of your semestral grades are:\n",
            "\t30.00% for Prelims\n",
            "\t30.00% for Midterms, and\n",
            "\t40.00% for Finals.\n",
            "enter a number: 26\n",
            "Input a name: abigail\n",
            "Enter prelim grade: 95\n",
            "Enter midterm grade: 95\n",
            "Enter finals grade: 95\n",
            "Hello abigail, your semestral grade is: 95.00\n"
          ]
        }
      ]
    },
    {
      "cell_type": "code",
      "source": [
        "## while loops\n",
        "i, j = 0, 10\n",
        "while(i<=j):\n",
        "    print(f\"{i}\\t|\\t{j}\")\n",
        "    i+=1\n",
        "\n",
        "# for(int i=0; i<10; i++){\n",
        "# printf(i)\n",
        "# }\n",
        "\n",
        "i=0\n",
        "for i in range(10):\n",
        "    print(i)\n"
      ],
      "metadata": {
        "colab": {
          "base_uri": "https://localhost:8080/"
        },
        "id": "naQ3qssnw5Fo",
        "outputId": "91aa6e05-ddbd-4cbd-aa3c-c7330fd69a27"
      },
      "execution_count": 16,
      "outputs": [
        {
          "output_type": "stream",
          "name": "stdout",
          "text": [
            "0\t|\t10\n",
            "1\t|\t10\n",
            "2\t|\t10\n",
            "3\t|\t10\n",
            "4\t|\t10\n",
            "5\t|\t10\n",
            "6\t|\t10\n",
            "7\t|\t10\n",
            "8\t|\t10\n",
            "9\t|\t10\n",
            "10\t|\t10\n",
            "0\n",
            "1\n",
            "2\n",
            "3\n",
            "4\n",
            "5\n",
            "6\n",
            "7\n",
            "8\n",
            "9\n"
          ]
        }
      ]
    },
    {
      "cell_type": "code",
      "source": [
        "###Condition Statements\n",
        "numeral1, numeral2 = 12, 12\n",
        "if(numeral1 == numeral2):\n",
        "     print(\"Yey\")\n",
        "elif(numeral1>numeral2):\n",
        "     print(\"Hoho\")\n",
        "else:\n",
        "     print(\"Aww\")\n",
        "print(\"Hip hip\")\n"
      ],
      "metadata": {
        "colab": {
          "base_uri": "https://localhost:8080/"
        },
        "id": "OAb3c7Jlw78_",
        "outputId": "2361c8f3-f5fd-46ad-f2b8-7a1a440dfeb2"
      },
      "execution_count": 17,
      "outputs": [
        {
          "output_type": "stream",
          "name": "stdout",
          "text": [
            "Yey\n",
            "Hip hip\n"
          ]
        }
      ]
    },
    {
      "cell_type": "code",
      "source": [
        "# void DeleteUser(int userid){\n",
        "#     delete(userid);\n",
        "# }\n",
        "\n",
        "def delete_user (userid):\n",
        "     print(\"Successfully deleted user: {}\".format(userid))\n",
        "\n",
        "def delete_all_users ():\n",
        "     print(\"Successfully deleted all users\")\n"
      ],
      "metadata": {
        "id": "THtwmp05xB6f"
      },
      "execution_count": 19,
      "outputs": []
    }
  ]
}