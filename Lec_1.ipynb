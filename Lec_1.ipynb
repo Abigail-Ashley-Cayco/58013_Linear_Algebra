{
  "nbformat": 4,
  "nbformat_minor": 0,
  "metadata": {
    "colab": {
      "provenance": [],
      "authorship_tag": "ABX9TyOiLLoxN7Zob4VjsuRJO8QJ",
      "include_colab_link": true
    },
    "kernelspec": {
      "name": "python3",
      "display_name": "Python 3"
    },
    "language_info": {
      "name": "python"
    }
  },
  "cells": [
    {
      "cell_type": "markdown",
      "metadata": {
        "id": "view-in-github",
        "colab_type": "text"
      },
      "source": [
        "<a href=\"https://colab.research.google.com/github/Abigail-Ashley-Cayco/58013_Linear_Algebra/blob/main/Lec_1.ipynb\" target=\"_parent\"><img src=\"https://colab.research.google.com/assets/colab-badge.svg\" alt=\"Open In Colab\"/></a>"
      ]
    },
    {
      "cell_type": "code",
      "source": [
        "import numpy as np\n",
        "x = np.array(-0.5)\n",
        "x"
      ],
      "metadata": {
        "colab": {
          "base_uri": "https://localhost:8080/"
        },
        "id": "gC-oOerYo0Lq",
        "outputId": "81761ae1-ff43-410a-e317-65dd91416023"
      },
      "execution_count": 3,
      "outputs": [
        {
          "output_type": "execute_result",
          "data": {
            "text/plain": [
              "array(-0.5)"
            ]
          },
          "metadata": {},
          "execution_count": 3
        }
      ]
    },
    {
      "cell_type": "markdown",
      "source": [
        "Vectors"
      ],
      "metadata": {
        "id": "Y9R1q3-5pNla"
      }
    },
    {
      "cell_type": "code",
      "source": [
        "A = np.array([4,3])\n",
        "B = np.array([2, -5])\n",
        "print('Vector A is ', A)\n",
        "print('Vector B is ', B)"
      ],
      "metadata": {
        "colab": {
          "base_uri": "https://localhost:8080/"
        },
        "id": "PGBL5f0GpOrJ",
        "outputId": "8055be6b-2c9e-4bcd-da5e-51015b03ab6d"
      },
      "execution_count": 4,
      "outputs": [
        {
          "output_type": "stream",
          "name": "stdout",
          "text": [
            "Vector A is  [4 3]\n",
            "Vector B is  [ 2 -5]\n"
          ]
        }
      ]
    },
    {
      "cell_type": "markdown",
      "source": [
        "Describing Vectors in NumPy"
      ],
      "metadata": {
        "id": "NrzJo3tGpX0u"
      }
    },
    {
      "cell_type": "code",
      "source": [
        "### Checking shapes\n",
        "### Shapes tells us how many rows and columns are there\n",
        "ball1 = np.array([1,2,3])\n",
        "ball2 = np.array([0,1,-1])\n",
        "pool = np.array([ball1,ball2]) ## Matrix\n",
        "pool.shape\n",
        "\n",
        "U = np.array([\n",
        "    [1,2],\n",
        "    [2,3]\n",
        "])\n",
        "U.shape\n",
        "\n",
        "## Checking size\n",
        "## Array/Vector sizes tells us many total number of elements are there in the vector\n",
        "\n",
        "U.size\n",
        "\n",
        "## Checking dimensions\n",
        "### The dimension or rank of a vector tells us how many dimension are there for the vectors.\n",
        "A.ndim\n",
        "pool.ndim"
      ],
      "metadata": {
        "colab": {
          "base_uri": "https://localhost:8080/"
        },
        "id": "uqdin3j6pbXX",
        "outputId": "f6c2015e-f273-43e4-b6b1-26153d4f28e5"
      },
      "execution_count": 7,
      "outputs": [
        {
          "output_type": "execute_result",
          "data": {
            "text/plain": [
              "2"
            ]
          },
          "metadata": {},
          "execution_count": 7
        }
      ]
    },
    {
      "cell_type": "code",
      "source": [
        "#Size Dimension, Size\n",
        "import numpy as np\n",
        "ball1 = np.array([1,2,3])\n",
        "ball2 = np.array([0,1,-1])\n",
        "print(ball1)\n",
        "print(ball2)\n",
        "#ball = np.shape([[ball1]],[ball2]])\n",
        "ball=np.shape(ball1)\n",
        "balls=np.shape(ball2)\n",
        "z= ball+balls\n",
        "print(z)"
      ],
      "metadata": {
        "colab": {
          "base_uri": "https://localhost:8080/"
        },
        "id": "0bGGGMJamU_R",
        "outputId": "ab67da6a-de16-4189-b461-76743b489232"
      },
      "execution_count": null,
      "outputs": [
        {
          "output_type": "stream",
          "name": "stdout",
          "text": [
            "[1 2 3]\n",
            "[ 0  1 -1]\n",
            "(3,)\n"
          ]
        }
      ]
    },
    {
      "cell_type": "markdown",
      "source": [
        "Addition"
      ],
      "metadata": {
        "id": "qNlnXYm1sG0k"
      }
    },
    {
      "cell_type": "code",
      "source": [
        "#addition\n",
        "import numpy as np\n",
        "A = np.array([4,3])\n",
        "B = np.array([2,-5])\n",
        "R = np.add(A,B)\n",
        "print(R)"
      ],
      "metadata": {
        "colab": {
          "base_uri": "https://localhost:8080/"
        },
        "id": "TPzdlBTjsH0R",
        "outputId": "34d7a224-ccb1-49ae-dd02-ae84a732d2fa"
      },
      "execution_count": null,
      "outputs": [
        {
          "output_type": "stream",
          "name": "stdout",
          "text": [
            "[ 6 -2]\n"
          ]
        }
      ]
    },
    {
      "cell_type": "code",
      "source": [
        "#Subraction\n",
        "import numpy as np\n",
        "R1 = np.subtract(A,B)\n",
        "print(R1)\n",
        "R2 = np.subtract(B,A)\n",
        "print(R2)"
      ],
      "metadata": {
        "colab": {
          "base_uri": "https://localhost:8080/"
        },
        "id": "YTK1WHBIty9H",
        "outputId": "f2f2d266-27e2-4d60-e699-c61947494c26"
      },
      "execution_count": null,
      "outputs": [
        {
          "output_type": "stream",
          "name": "stdout",
          "text": [
            "[2 8]\n",
            "[-2 -8]\n"
          ]
        }
      ]
    },
    {
      "cell_type": "code",
      "source": [
        "#Scalar Product\n",
        "import numpy as np\n",
        "S = np.array([2])\n",
        "V = S*A\n",
        "print(V)"
      ],
      "metadata": {
        "colab": {
          "base_uri": "https://localhost:8080/"
        },
        "id": "_uYw5WZ9uvLv",
        "outputId": "1c03f261-755a-4e6e-aa29-5d3af0acf7cd"
      },
      "execution_count": null,
      "outputs": [
        {
          "output_type": "stream",
          "name": "stdout",
          "text": [
            "[8 6]\n"
          ]
        }
      ]
    },
    {
      "cell_type": "code",
      "source": [
        "#Multiplication\n",
        "import numpy as np\n",
        "A = np.array([4,3])\n",
        "B = np.array(([2],[-5]))\n",
        "print(B*A)"
      ],
      "metadata": {
        "colab": {
          "base_uri": "https://localhost:8080/"
        },
        "id": "5ud9st2avbCb",
        "outputId": "b26def43-d523-4a16-efba-292b3b51ad0f"
      },
      "execution_count": null,
      "outputs": [
        {
          "output_type": "stream",
          "name": "stdout",
          "text": [
            "[[  8   6]\n",
            " [-20 -15]]\n"
          ]
        }
      ]
    },
    {
      "cell_type": "code",
      "source": [
        "#Dot Product\n",
        "A = np.array([4,3])\n",
        "B = np.array(([2],[-5]))\n",
        "print(np.dot(A,B))"
      ],
      "metadata": {
        "colab": {
          "base_uri": "https://localhost:8080/"
        },
        "id": "-WLixnzqy99V",
        "outputId": "2a4e75f2-7b2c-4b9c-8b4a-a44f6874e786"
      },
      "execution_count": null,
      "outputs": [
        {
          "output_type": "stream",
          "name": "stdout",
          "text": [
            "[-7]\n"
          ]
        }
      ]
    },
    {
      "cell_type": "code",
      "source": [
        "#Property Matrix\n",
        "#Identity Matrix\n",
        "c = np.eye(3,3)\n",
        "print(c)\n",
        "\n",
        "#zero matrix\n",
        "d = np.zeros([5,5])\n",
        "print(\"\\n\", d)\n",
        "#Full matrix\n",
        "e = np.full((3,3),7)\n",
        "print(\"\\n\", e)\n",
        "#Transpose Matrix\n",
        "f = np.transpose(A)\n",
        "print(\"\\n\",f)"
      ],
      "metadata": {
        "colab": {
          "base_uri": "https://localhost:8080/"
        },
        "id": "CtORS6HFzTMj",
        "outputId": "10157002-2ad4-43f1-baa0-243c268d63f3"
      },
      "execution_count": null,
      "outputs": [
        {
          "output_type": "stream",
          "name": "stdout",
          "text": [
            "[[1. 0. 0.]\n",
            " [0. 1. 0.]\n",
            " [0. 0. 1.]]\n",
            "\n",
            " [[0. 0. 0. 0. 0.]\n",
            " [0. 0. 0. 0. 0.]\n",
            " [0. 0. 0. 0. 0.]\n",
            " [0. 0. 0. 0. 0.]\n",
            " [0. 0. 0. 0. 0.]]\n",
            "\n",
            " [[7 7 7]\n",
            " [7 7 7]\n",
            " [7 7 7]]\n",
            "\n",
            " [4 3]\n"
          ]
        }
      ]
    },
    {
      "cell_type": "code",
      "source": [
        "#Transpose of Matrix\n",
        "import numpy as np\n",
        "A = np.array([4,3])\n",
        "B = np.array(([2],[-5]))\n",
        "print(B*A)\n",
        "f = np.transpose(A)\n",
        "print(\"\\n\",f)"
      ],
      "metadata": {
        "colab": {
          "base_uri": "https://localhost:8080/"
        },
        "id": "oPFUA5vh0_mQ",
        "outputId": "0632dec3-ae12-463d-93ea-5972bb5ace99"
      },
      "execution_count": null,
      "outputs": [
        {
          "output_type": "stream",
          "name": "stdout",
          "text": [
            "[[  8   6]\n",
            " [-20 -15]]\n",
            "\n",
            " [4 3]\n"
          ]
        }
      ]
    }
  ]
}