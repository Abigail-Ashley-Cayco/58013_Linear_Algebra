{
  "nbformat": 4,
  "nbformat_minor": 0,
  "metadata": {
    "colab": {
      "provenance": [],
      "authorship_tag": "ABX9TyNeyS0AKB/OZYi7OKkiY4i3",
      "include_colab_link": true
    },
    "kernelspec": {
      "name": "python3",
      "display_name": "Python 3"
    },
    "language_info": {
      "name": "python"
    }
  },
  "cells": [
    {
      "cell_type": "markdown",
      "metadata": {
        "id": "view-in-github",
        "colab_type": "text"
      },
      "source": [
        "<a href=\"https://colab.research.google.com/github/Abigail-Ashley-Cayco/58013_Linear_Algebra/blob/main/Determinant_of_Matrix.ipynb\" target=\"_parent\"><img src=\"https://colab.research.google.com/assets/colab-badge.svg\" alt=\"Open In Colab\"/></a>"
      ]
    },
    {
      "cell_type": "code",
      "source": [
        "import numpy\n",
        "A=numpy.array([[4, 7, 8],\n",
        "               [-9, 0, 0],\n",
        "               [2, 3, 4]])\n",
        "print(A)\n",
        "print(int(numpy.linalg.det(A)))"
      ],
      "metadata": {
        "colab": {
          "base_uri": "https://localhost:8080/"
        },
        "id": "f9BS3AyX2YCk",
        "outputId": "a8764afa-1163-40dc-9f50-24a55aa9c48a"
      },
      "execution_count": 6,
      "outputs": [
        {
          "output_type": "stream",
          "name": "stdout",
          "text": [
            "[[ 4  7  8]\n",
            " [-9  0  0]\n",
            " [ 2  3  4]]\n",
            "36\n"
          ]
        }
      ]
    },
    {
      "cell_type": "code",
      "source": [
        "import numpy\n",
        "A=numpy.array([[2, 3, -5],\n",
        "               [7, 1, -2],\n",
        "               [-3, 4, 1]])\n",
        "print(A)\n",
        "print(int(numpy.linalg.det(A)))"
      ],
      "metadata": {
        "colab": {
          "base_uri": "https://localhost:8080/"
        },
        "id": "1pt72QZg2pL2",
        "outputId": "aee8c489-0d6a-4196-ac4e-e6cab3121ae1"
      },
      "execution_count": 7,
      "outputs": [
        {
          "output_type": "stream",
          "name": "stdout",
          "text": [
            "[[ 2  3 -5]\n",
            " [ 7  1 -2]\n",
            " [-3  4  1]]\n",
            "-140\n"
          ]
        }
      ]
    },
    {
      "cell_type": "markdown",
      "source": [
        "Practice"
      ],
      "metadata": {
        "id": "BduzLzpY3D89"
      }
    },
    {
      "cell_type": "code",
      "execution_count": 8,
      "metadata": {
        "colab": {
          "base_uri": "https://localhost:8080/"
        },
        "id": "S_69JASH1fTU",
        "outputId": "beedda88-9290-4400-eb80-43441634f6bb"
      },
      "outputs": [
        {
          "output_type": "stream",
          "name": "stdout",
          "text": [
            "[[ 1  2 -1]\n",
            " [ 4  6 -2]\n",
            " [-1  3  3]]\n",
            "-13\n"
          ]
        }
      ],
      "source": [
        "import numpy\n",
        "A=numpy.array([[1, 2, -1],\n",
        "               [4, 6, -2],\n",
        "               [-1, 3, 3]])\n",
        "print(A)\n",
        "print(int(numpy.linalg.det(A)))"
      ]
    }
  ]
}